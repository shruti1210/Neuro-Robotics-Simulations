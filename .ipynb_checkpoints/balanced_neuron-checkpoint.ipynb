{
 "cells": [
  {
   "cell_type": "code",
   "execution_count": 2,
   "id": "4f52b7e5",
   "metadata": {},
   "outputs": [],
   "source": [
    "from scipy.optimize import bisect\n",
    "\n",
    "import nest\n",
    "import nest.voltage_trace"
   ]
  },
  {
   "cell_type": "code",
   "execution_count": 3,
   "id": "b51d0d4e",
   "metadata": {},
   "outputs": [],
   "source": [
    "nest.set_verbosity(\"M_WARNING\")\n",
    "nest.ResetKernel()"
   ]
  },
  {
   "cell_type": "code",
   "execution_count": 4,
   "id": "cf4a2fc0",
   "metadata": {},
   "outputs": [],
   "source": [
    "t_sim = 25000.0  # how long we simulate\n",
    "n_ex = 16000     # size of the excitatory population\n",
    "n_in = 4000      # size of the inhibitory population\n",
    "r_ex = 5.0       # mean rate of the excitatory population\n",
    "r_in = 20.5      # initial rate of the inhibitory population\n",
    "epsc = 45.0      # peak amplitude of excitatory synaptic currents\n",
    "ipsc = -45.0     # peak amplitude of inhibitory synaptic currents\n",
    "d = 1.0          # synaptic delay\n",
    "lower = 15.0     # lower bound of the search interval\n",
    "upper = 25.0     # upper bound of the search interval\n",
    "prec = 0.01      # how close need the excitatory rates be"
   ]
  },
  {
   "cell_type": "code",
   "execution_count": 5,
   "id": "3e849958",
   "metadata": {},
   "outputs": [],
   "source": [
    "neuron = nest.Create(\"iaf_psc_alpha\")\n",
    "noise = nest.Create(\"poisson_generator\", 2)\n",
    "voltmeter = nest.Create(\"voltmeter\")\n",
    "spikedetector = nest.Create(\"spike_detector\")"
   ]
  },
  {
   "cell_type": "code",
   "execution_count": 6,
   "id": "b6457afd",
   "metadata": {},
   "outputs": [],
   "source": [
    "nest.SetStatus(noise, [{\"rate\": n_ex * r_ex}, {\"rate\": n_in * r_in}])\n",
    "nest.SetStatus(voltmeter, {\"withgid\": True, \"withtime\": True})"
   ]
  },
  {
   "cell_type": "code",
   "execution_count": 7,
   "id": "b1c16bef",
   "metadata": {},
   "outputs": [],
   "source": [
    "nest.Connect(neuron, spikedetector)\n",
    "nest.Connect(voltmeter, neuron)\n",
    "nest.Connect(noise, neuron, syn_spec={'weight': [[epsc, ipsc]], 'delay': 1.0})"
   ]
  },
  {
   "cell_type": "code",
   "execution_count": 8,
   "id": "f72d1685",
   "metadata": {},
   "outputs": [],
   "source": [
    "def output_rate(guess):\n",
    "    print(\"Inhibitory rate estimate: %5.2f Hz\" % guess)\n",
    "    rate = float(abs(n_in * guess))\n",
    "    nest.SetStatus([noise[1]], \"rate\", rate)\n",
    "    nest.SetStatus(spikedetector, \"n_events\", 0)\n",
    "    nest.Simulate(t_sim)\n",
    "    out = nest.GetStatus(spikedetector, \"n_events\")[0] * 1000.0 / t_sim\n",
    "    print(\"  -> Neuron rate: %6.2f Hz (goal: %4.2f Hz)\" % (out, r_ex))\n",
    "    return out"
   ]
  },
  {
   "cell_type": "code",
   "execution_count": 9,
   "id": "77d290bc",
   "metadata": {},
   "outputs": [
    {
     "name": "stdout",
     "output_type": "stream",
     "text": [
      "Inhibitory rate estimate: 15.00 Hz\n",
      "  -> Neuron rate: 347.64 Hz (goal: 5.00 Hz)\n",
      "Inhibitory rate estimate: 25.00 Hz\n",
      "  -> Neuron rate:   0.04 Hz (goal: 5.00 Hz)\n",
      "Inhibitory rate estimate: 20.00 Hz\n",
      "  -> Neuron rate:  37.04 Hz (goal: 5.00 Hz)\n",
      "Inhibitory rate estimate: 22.50 Hz\n",
      "  -> Neuron rate:   0.00 Hz (goal: 5.00 Hz)\n",
      "Inhibitory rate estimate: 21.25 Hz\n",
      "  -> Neuron rate:   0.92 Hz (goal: 5.00 Hz)\n",
      "Inhibitory rate estimate: 20.62 Hz\n",
      "  -> Neuron rate:   7.32 Hz (goal: 5.00 Hz)\n",
      "Inhibitory rate estimate: 20.94 Hz\n",
      "  -> Neuron rate:   3.48 Hz (goal: 5.00 Hz)\n",
      "Inhibitory rate estimate: 20.78 Hz\n",
      "  -> Neuron rate:   3.92 Hz (goal: 5.00 Hz)\n",
      "Inhibitory rate estimate: 20.70 Hz\n",
      "  -> Neuron rate:   6.04 Hz (goal: 5.00 Hz)\n",
      "Inhibitory rate estimate: 20.74 Hz\n",
      "  -> Neuron rate:   5.76 Hz (goal: 5.00 Hz)\n",
      "Inhibitory rate estimate: 20.76 Hz\n",
      "  -> Neuron rate:   5.24 Hz (goal: 5.00 Hz)\n",
      "Inhibitory rate estimate: 20.77 Hz\n",
      "  -> Neuron rate:   5.28 Hz (goal: 5.00 Hz)\n",
      "Optimal rate for the inhibitory population: 20.77 Hz\n"
     ]
    }
   ],
   "source": [
    "in_rate = bisect(lambda x: output_rate(x) - r_ex, lower, upper, xtol=prec)\n",
    "print(\"Optimal rate for the inhibitory population: %.2f Hz\" % in_rate)"
   ]
  },
  {
   "cell_type": "code",
   "execution_count": 10,
   "id": "c61f056d",
   "metadata": {},
   "outputs": [
    {
     "data": {
      "text/plain": [
       "[[<matplotlib.lines.Line2D at 0x7f05673aafa0>]]"
      ]
     },
     "execution_count": 10,
     "metadata": {},
     "output_type": "execute_result"
    },
    {
     "data": {
      "image/png": "[encoded data removed]",
      "text/plain": [
       "<Figure size 432x288 with 1 Axes>"
      ]
     },
     "metadata": {
      "needs_background": "light"
     },
     "output_type": "display_data"
    }
   ],
   "source": [
    "nest.voltage_trace.from_device(voltmeter)"
   ]
  },
  {
   "cell_type": "code",
   "execution_count": null,
   "id": "63255d7b",
   "metadata": {},
   "outputs": [],
   "source": []
  },
  {
   "cell_type": "code",
   "execution_count": null,
   "id": "d253eb9b",
   "metadata": {},
   "outputs": [],
   "source": []
  }
 ],
 "metadata": {
  "kernelspec": {
   "display_name": "Python 3",
   "language": "python",
   "name": "python3"
  },
  "language_info": {
   "codemirror_mode": {
    "name": "ipython",
    "version": 3
   },
   "file_extension": ".py",
   "mimetype": "text/x-python",
   "name": "python",
   "nbconvert_exporter": "python",
   "pygments_lexer": "ipython3",
   "version": "3.8.10"
  }
 },
 "nbformat": 4,
 "nbformat_minor": 5
}
