{
 "cells": [
  {
   "cell_type": "code",
   "execution_count": 1,
   "id": "c60f0a20",
   "metadata": {},
   "outputs": [],
   "source": [
    "import nest\n",
    "import nest.raster_plot"
   ]
  },
  {
   "cell_type": "code",
   "execution_count": 2,
   "id": "b07993c0",
   "metadata": {},
   "outputs": [],
   "source": [
    "rate = 1000.0  # generator rate in spikes/s\n",
    "start = 100.0  # start of simulation relative to trial start, in ms\n",
    "stop = 500.0  # end of simulation relative to trial start, in ms"
   ]
  },
  {
   "cell_type": "code",
   "execution_count": 3,
   "id": "16fb2673",
   "metadata": {},
   "outputs": [],
   "source": [
    "trial_duration = 1000.0  # trial duration, in ms\n",
    "num_trials = 5      # number of trials to perform"
   ]
  },
  {
   "cell_type": "code",
   "execution_count": 4,
   "id": "7d03e2cc",
   "metadata": {},
   "outputs": [],
   "source": [
    "nest.ResetKernel()\n",
    "pg = nest.Create('poisson_generator',\n",
    "                 params={'rate': rate,\n",
    "                         'start': start,\n",
    "                         'stop': stop}\n",
    "                 )\n"
   ]
  },
  {
   "cell_type": "code",
   "execution_count": 5,
   "id": "e05aa2d9",
   "metadata": {},
   "outputs": [],
   "source": [
    "sd = nest.Create('spike_detector')"
   ]
  },
  {
   "cell_type": "code",
   "execution_count": 6,
   "id": "55cabc8b",
   "metadata": {},
   "outputs": [],
   "source": [
    "nest.Connect(pg, sd)"
   ]
  },
  {
   "cell_type": "code",
   "execution_count": 7,
   "id": "97e9b4cd",
   "metadata": {},
   "outputs": [],
   "source": [
    "for n in range(num_trials):\n",
    "    nest.SetStatus(pg, {'origin': nest.GetKernelStatus()['time']})\n",
    "    nest.Simulate(trial_duration)"
   ]
  },
  {
   "cell_type": "code",
   "execution_count": 8,
   "id": "8ad435be",
   "metadata": {},
   "outputs": [
    {
     "data": {
      "text/plain": [
       "[<matplotlib.lines.Line2D at 0x7f05acf05520>]"
      ]
     },
     "execution_count": 8,
     "metadata": {},
     "output_type": "execute_result"
    },
    {
     "data": {
      "image/png": "[encoded data removed]",
      "text/plain": [
       "<Figure size 432x288 with 2 Axes>"
      ]
     },
     "metadata": {
      "needs_background": "light"
     },
     "output_type": "display_data"
    }
   ],
   "source": [
    "nest.raster_plot.from_device(sd, hist=True, hist_binwidth=100.,\n",
    "                             title='Repeated stimulation by Poisson generator')"
   ]
  },
  {
   "cell_type": "code",
   "execution_count": null,
   "id": "84eefa5b",
   "metadata": {},
   "outputs": [],
   "source": []
  },
  {
   "cell_type": "code",
   "execution_count": null,
   "id": "114818b8",
   "metadata": {},
   "outputs": [],
   "source": []
  }
 ],
 "metadata": {
  "kernelspec": {
   "display_name": "Python 3",
   "language": "python",
   "name": "python3"
  },
  "language_info": {
   "codemirror_mode": {
    "name": "ipython",
    "version": 3
   },
   "file_extension": ".py",
   "mimetype": "text/x-python",
   "name": "python",
   "nbconvert_exporter": "python",
   "pygments_lexer": "ipython3",
   "version": "3.8.10"
  }
 },
 "nbformat": 4,
 "nbformat_minor": 5
}
