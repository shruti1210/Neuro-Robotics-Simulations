{
 "cells": [
  {
   "cell_type": "code",
   "execution_count": 2,
   "id": "fcad2edb",
   "metadata": {},
   "outputs": [],
   "source": [
    "import nest\n",
    "import numpy as np"
   ]
  },
  {
   "cell_type": "code",
   "execution_count": 3,
   "id": "a352d908",
   "metadata": {},
   "outputs": [],
   "source": [
    "neuron = nest.Create('aeif_cond_alpha_multisynapse')\n",
    "nest.SetStatus(neuron, {\"V_peak\": 0.0, \"a\": 4.0, \"b\":80.5})\n",
    "nest.SetStatus(neuron, {'E_rev':[0.0, 0.0, 0.0, -85.0],\n",
    "                        'tau_syn':[1.0, 5.0, 10.0, 8.0]})\n"
   ]
  },
  {
   "cell_type": "code",
   "execution_count": 4,
   "id": "d34c4eb5",
   "metadata": {},
   "outputs": [],
   "source": [
    "spike = nest.Create('spike_generator', params = {'spike_times':\n",
    "                                                np.array([10.0])})\n"
   ]
  },
  {
   "cell_type": "code",
   "execution_count": 5,
   "id": "9cbc6143",
   "metadata": {},
   "outputs": [],
   "source": [
    "voltmeter = nest.Create('voltmeter', 1, {'withgid': True})\n",
    "\n",
    "delays=[1.0, 300.0, 500.0, 700.0]\n",
    "w=[1.0, 1.0, 1.0, 1.0]"
   ]
  },
  {
   "cell_type": "code",
   "execution_count": 6,
   "id": "ef367c09",
   "metadata": {},
   "outputs": [],
   "source": [
    "for syn in range(4):\n",
    "    nest.Connect(spike, neuron, syn_spec={'model': 'static_synapse',\n",
    "                                          'receptor_type': 1 + syn,\n",
    "                                          'weight': w[syn],\n",
    "                                          'delay': delays[syn]})\n",
    "\n",
    "nest.Connect(voltmeter, neuron)"
   ]
  },
  {
   "cell_type": "code",
   "execution_count": 7,
   "id": "79b93eed",
   "metadata": {},
   "outputs": [],
   "source": [
    "nest.Simulate(1000.0)\n",
    "dmm = nest.GetStatus(voltmeter)[0]\n",
    "Vms = dmm[\"events\"][\"V_m\"]\n",
    "ts = dmm[\"events\"][\"times\"]"
   ]
  },
  {
   "cell_type": "code",
   "execution_count": 8,
   "id": "219f9f9e",
   "metadata": {},
   "outputs": [
    {
     "name": "stderr",
     "output_type": "stream",
     "text": [
      "Matplotlib is building the font cache; this may take a moment.\n"
     ]
    }
   ],
   "source": [
    "import pylab"
   ]
  },
  {
   "cell_type": "code",
   "execution_count": 9,
   "id": "7264c4b8",
   "metadata": {},
   "outputs": [
    {
     "data": {
      "image/png": "[encoded data removed]",
      "text/plain": [
       "<Figure size 432x288 with 1 Axes>"
      ]
     },
     "metadata": {
      "needs_background": "light"
     },
     "output_type": "display_data"
    }
   ],
   "source": [
    "pylab.figure(2)\n",
    "pylab.plot(ts, Vms)\n",
    "pylab.show()"
   ]
  }
 ],
 "metadata": {
  "kernelspec": {
   "display_name": "Python 3",
   "language": "python",
   "name": "python3"
  },
  "language_info": {
   "codemirror_mode": {
    "name": "ipython",
    "version": 3
   },
   "file_extension": ".py",
   "mimetype": "text/x-python",
   "name": "python",
   "nbconvert_exporter": "python",
   "pygments_lexer": "ipython3",
   "version": "3.8.10"
  }
 },
 "nbformat": 4,
 "nbformat_minor": 5
}
